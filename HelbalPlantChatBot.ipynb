{
 "cells": [
  {
   "cell_type": "code",
   "execution_count": 2,
   "id": "423e89af",
   "metadata": {},
   "outputs": [],
   "source": [
    "# Load required Libraries\n",
    "\n",
    "import re\n",
    "\n",
    "from langchain.text_splitter import RecursiveCharacterTextSplitter\n",
    "from langchain.vectorstores import  Chroma\n",
    "from langchain_core.documents import Document\n",
    "from langchain_community.document_loaders import PyPDFLoader, DirectoryLoader\n",
    "from langchain_groq import ChatGroq\n",
    "from langchain_community.embeddings import HuggingFaceEmbeddings\n",
    "from langchain_huggingface import ChatHuggingFace, HuggingFacePipeline\n",
    "from langchain_core.output_parsers import StrOutputParser\n",
    "from langchain.schema.runnable import RunnableLambda\n",
    "from langchain.prompts import ChatPromptTemplate, MessagesPlaceholder\n",
    "from langchain.memory import ConversationBufferMemory\n",
    "from langchain_core.runnables.history import RunnableWithMessageHistory\n",
    "from langchain_core.chat_history import InMemoryChatMessageHistory\n",
    "from rich.console import Console\n",
    "from rich.markdown import Markdown"
   ]
  },
  {
   "cell_type": "code",
   "execution_count": 3,
   "id": "483e2ae2",
   "metadata": {},
   "outputs": [
    {
     "name": "stdout",
     "output_type": "stream",
     "text": [
      "1499\n"
     ]
    }
   ],
   "source": [
    "# Load PDF Documents from directory\n",
    "\n",
    "loader = DirectoryLoader(\n",
    "    path = r'C:\\Desktop\\Chatbot\\HerbalDocs',\n",
    "    glob = '*.pdf',\n",
    "    loader_cls = PyPDFLoader\n",
    "    \n",
    ")\n",
    "\n",
    "docs = loader.load()\n",
    "print(len(docs))"
   ]
  },
  {
   "cell_type": "code",
   "execution_count": 4,
   "id": "9c629988",
   "metadata": {},
   "outputs": [
    {
     "name": "stderr",
     "output_type": "stream",
     "text": [
      "C:\\Users\\atanu\\AppData\\Local\\Temp\\ipykernel_13380\\2007065619.py:2: LangChainDeprecationWarning: The class `HuggingFaceEmbeddings` was deprecated in LangChain 0.2.2 and will be removed in 1.0. An updated version of the class exists in the :class:`~langchain-huggingface package and should be used instead. To use it run `pip install -U :class:`~langchain-huggingface` and import as `from :class:`~langchain_huggingface import HuggingFaceEmbeddings``.\n",
      "  embedding = HuggingFaceEmbeddings(model_name='sentence-transformers/multi-qa-mpnet-base-dot-v1')\n"
     ]
    }
   ],
   "source": [
    "# Load Embedding Model\n",
    "embedding = HuggingFaceEmbeddings(model_name='sentence-transformers/multi-qa-mpnet-base-dot-v1')"
   ]
  },
  {
   "cell_type": "code",
   "execution_count": 5,
   "id": "dee33b8a",
   "metadata": {},
   "outputs": [],
   "source": [
    "# Text Splitter\n",
    "\n",
    "splitter = RecursiveCharacterTextSplitter(\n",
    "    chunk_size=1000,   # size of each chunk (adjustable)\n",
    "    chunk_overlap=200, # overlap between chunks to preserve context\n",
    "    separators=[\"\\n\\n\", \"\\n\", \" \", \"\"]\n",
    ")\n",
    "\n",
    "chunks = splitter.split_documents(docs)"
   ]
  },
  {
   "cell_type": "code",
   "execution_count": 6,
   "id": "19586998",
   "metadata": {},
   "outputs": [
    {
     "data": {
      "text/plain": [
       "Document(metadata={'producer': 'Acrobat Distiller 4.0 for Macintosh', 'creator': 'PageMaker 5.0', 'creationdate': '2004-05-25T14:59:01+03:00', 'moddate': '2004-05-25T14:59:05+03:00', 'source': 'C:\\\\Desktop\\\\Chatbot\\\\HerbalDocs\\\\Volume-1.pdf', 'total_pages': 295, 'page': 0, 'page_label': '1'}, page_content='Bulbus Allii Cepae\\ni\\nWHO\\nmonographs\\non selected\\nmedicinal plants\\nVOLUME 1\\nWorld Health Organization\\nGeneva\\n1999')"
      ]
     },
     "execution_count": 6,
     "metadata": {},
     "output_type": "execute_result"
    }
   ],
   "source": [
    "chunks[0]"
   ]
  },
  {
   "cell_type": "code",
   "execution_count": 7,
   "id": "f644451f",
   "metadata": {},
   "outputs": [],
   "source": [
    "# Embedding & Vector store  (Already save so run next console)\n",
    "\n",
    "# vector_store = Chroma.from_documents(\n",
    "#      documents=chunks,\n",
    "#     embedding=embedding,\n",
    "#     persist_directory=\"./chroma_db\"   # saves locally\n",
    "# )"
   ]
  },
  {
   "cell_type": "code",
   "execution_count": 8,
   "id": "baefa3d2",
   "metadata": {},
   "outputs": [
    {
     "name": "stderr",
     "output_type": "stream",
     "text": [
      "C:\\Users\\atanu\\AppData\\Local\\Temp\\ipykernel_13380\\2801060796.py:3: LangChainDeprecationWarning: The class `Chroma` was deprecated in LangChain 0.2.9 and will be removed in 1.0. An updated version of the class exists in the :class:`~langchain-chroma package and should be used instead. To use it run `pip install -U :class:`~langchain-chroma` and import as `from :class:`~langchain_chroma import Chroma``.\n",
      "  vector_store = Chroma(\n"
     ]
    }
   ],
   "source": [
    "# Use already saved vector store\n",
    "\n",
    "vector_store = Chroma(\n",
    "    persist_directory=\"./chroma_db\",  \n",
    "    embedding_function=embedding\n",
    ")"
   ]
  },
  {
   "cell_type": "code",
   "execution_count": null,
   "id": "8a555f64",
   "metadata": {},
   "outputs": [],
   "source": [
    "# This model can run with api key\n",
    "\n",
    "model = ChatGroq(\n",
    "    model=\"deepseek-r1-distill-llama-70b\",\n",
    "    temperature=0,\n",
    "    max_tokens=None,\n",
    "    reasoning_format=\"parsed\",\n",
    "    timeout=None,\n",
    "    max_retries=2,\n",
    "    api_key='gsk_Db************************g3bZDiivSt7T'\n",
    "    \n",
    ")"
   ]
  },
  {
   "cell_type": "code",
   "execution_count": 10,
   "id": "b46d2158",
   "metadata": {},
   "outputs": [],
   "source": [
    "# Retriever\n",
    "\n",
    "from langchain.retrievers import EnsembleRetriever\n",
    "\n",
    "retriever = EnsembleRetriever(\n",
    "    retrievers=[\n",
    "        vector_store.as_retriever(search_type=\"similarity\", search_kwargs={\"k\": 4}),\n",
    "        vector_store.as_retriever(search_type=\"mmr\", search_kwargs={\"k\": 4})\n",
    "    ],\n",
    "    weights=[0.5, 0.5]\n",
    ")"
   ]
  },
  {
   "cell_type": "code",
   "execution_count": 11,
   "id": "69990db1",
   "metadata": {},
   "outputs": [],
   "source": [
    "chat_prompt = ChatPromptTemplate.from_messages([\n",
    "    (\"system\", \"\"\"You are a helpful assistant specialized in medicinal plants. \n",
    "Use only the given transcript and chat history to answer.\n",
    "If the context is incomplete, say so. Do NOT make up information.\"\"\"),\n",
    "    MessagesPlaceholder(variable_name=\"chat_history\"),\n",
    "    (\"human\", \"Transcript:\\n{context}\\n\\nQuestion:\\n{question}\")\n",
    "])"
   ]
  },
  {
   "cell_type": "code",
   "execution_count": 13,
   "id": "99272ee8",
   "metadata": {},
   "outputs": [
    {
     "name": "stderr",
     "output_type": "stream",
     "text": [
      "C:\\Users\\atanu\\AppData\\Local\\Temp\\ipykernel_13380\\515166408.py:1: LangChainDeprecationWarning: Please see the migration guide at: https://python.langchain.com/docs/versions/migrating_memory/\n",
      "  memory = ConversationBufferMemory(\n"
     ]
    }
   ],
   "source": [
    "memory = ConversationBufferMemory(\n",
    "    memory_key=\"chat_history\",\n",
    "    return_messages=True\n",
    ")"
   ]
  },
  {
   "cell_type": "code",
   "execution_count": 14,
   "id": "c3c1db4e",
   "metadata": {},
   "outputs": [],
   "source": [
    "# Clean function\n",
    "def clean_output(text: str) -> str:\n",
    "    \n",
    "    if not text:\n",
    "        return \"\"\n",
    "    return text.replace(\"\\\\n\", \"\\n\").replace(\"\\n\\n\", \"\\n\")\n",
    "cleaner = RunnableLambda(lambda x: clean_output(x))"
   ]
  },
  {
   "cell_type": "code",
   "execution_count": 15,
   "id": "4a1d912e",
   "metadata": {},
   "outputs": [],
   "source": [
    "parser = StrOutputParser()"
   ]
  },
  {
   "cell_type": "code",
   "execution_count": 16,
   "id": "aec7ca67",
   "metadata": {},
   "outputs": [],
   "source": [
    "chain = chat_prompt | model | parser | cleaner"
   ]
  },
  {
   "cell_type": "code",
   "execution_count": 18,
   "id": "ea317161",
   "metadata": {},
   "outputs": [
    {
     "name": "stdout",
     "output_type": "stream",
     "text": [
      "💬 Medical Chatbot Ready! Type 'exit' to quit.\n"
     ]
    },
    {
     "data": {
      "text/html": [
       "<pre style=\"white-space:pre;overflow-x:auto;line-height:normal;font-family:Menlo,'DejaVu Sans Mono',consolas,'Courier New',monospace\">\n",
       "<span style=\"color: #008080; text-decoration-color: #008080; font-weight: bold\">🧑 You: suggest medicinal planst ?</span>\n",
       "</pre>\n"
      ],
      "text/plain": [
       "\n",
       "\u001b[1;36m🧑 You: suggest medicinal planst ?\u001b[0m\n"
      ]
     },
     "metadata": {},
     "output_type": "display_data"
    },
    {
     "data": {
      "text/html": [
       "<pre style=\"white-space:pre;overflow-x:auto;line-height:normal;font-family:Menlo,'DejaVu Sans Mono',consolas,'Courier New',monospace\">\n",
       "<span style=\"color: #008000; text-decoration-color: #008000; font-weight: bold\">🤖 Bot:</span>\n",
       "</pre>\n"
      ],
      "text/plain": [
       "\n",
       "\u001b[1;32m🤖 Bot:\u001b[0m\n"
      ]
     },
     "metadata": {},
     "output_type": "display_data"
    },
    {
     "data": {
      "text/html": [
       "<pre style=\"white-space:pre;overflow-x:auto;line-height:normal;font-family:Menlo,'DejaVu Sans Mono',consolas,'Courier New',monospace\">Based on the provided transcript, here is a list of medicinal plants inferred from the active compounds mentioned, \n",
       "along with their known uses:                                                                                       \n",
       "\n",
       "<span style=\"color: #808000; text-decoration-color: #808000; font-weight: bold\"> 1 </span><span style=\"font-weight: bold\">Turmeric (Curcuma longa)</span>                                                                                        \n",
       "<span style=\"color: #808000; text-decoration-color: #808000; font-weight: bold\">    • </span><span style=\"font-weight: bold\">Active Compound:</span> Curcumin (C-21 H-20 O-6)                                                                    \n",
       "<span style=\"color: #808000; text-decoration-color: #808000; font-weight: bold\">    • </span><span style=\"font-weight: bold\">Use:</span> Known for its anti-inflammatory and antioxidant properties.                                             \n",
       "<span style=\"color: #808000; text-decoration-color: #808000; font-weight: bold\"> 2 </span><span style=\"font-weight: bold\">Barberry (Berberis species)</span>                                                                                     \n",
       "<span style=\"color: #808000; text-decoration-color: #808000; font-weight: bold\">    • </span><span style=\"font-weight: bold\">Active Compound:</span> Berberine                                                                                   \n",
       "<span style=\"color: #808000; text-decoration-color: #808000; font-weight: bold\">    • </span><span style=\"font-weight: bold\">Use:</span> Recognized for its antimicrobial and anti-diabetic effects.                                             \n",
       "<span style=\"color: #808000; text-decoration-color: #808000; font-weight: bold\"> 3 </span><span style=\"font-weight: bold\">Ginger (Zingiber officinale)</span>                                                                                    \n",
       "<span style=\"color: #808000; text-decoration-color: #808000; font-weight: bold\">    • </span><span style=\"font-weight: bold\">Active Compound:</span> [6]-Gingerol, [9]-Shogaol                                                                   \n",
       "<span style=\"color: #808000; text-decoration-color: #808000; font-weight: bold\">    • </span><span style=\"font-weight: bold\">Use:</span> Commonly used to alleviate nausea and inflammation.                                                     \n",
       "<span style=\"color: #808000; text-decoration-color: #808000; font-weight: bold\"> 4 </span><span style=\"font-weight: bold\">Clove (Syzygium aromaticum)</span>                                                                                     \n",
       "<span style=\"color: #808000; text-decoration-color: #808000; font-weight: bold\">    • </span><span style=\"font-weight: bold\">Active Compound:</span> Eugenol                                                                                     \n",
       "<span style=\"color: #808000; text-decoration-color: #808000; font-weight: bold\">    • </span><span style=\"font-weight: bold\">Use:</span> Known for its analgesic and anti-inflammatory properties.                                               \n",
       "<span style=\"color: #808000; text-decoration-color: #808000; font-weight: bold\"> 5 </span><span style=\"font-weight: bold\">Pomegranate (Punica granatum)</span>                                                                                   \n",
       "<span style=\"color: #808000; text-decoration-color: #808000; font-weight: bold\">    • </span><span style=\"font-weight: bold\">Active Compound:</span> Ellagic Acid                                                                                \n",
       "<span style=\"color: #808000; text-decoration-color: #808000; font-weight: bold\">    • </span><span style=\"font-weight: bold\">Use:</span> Valued for its antioxidant and potential anti-cancer properties.                                        \n",
       "<span style=\"color: #808000; text-decoration-color: #808000; font-weight: bold\"> 6 </span><span style=\"font-weight: bold\">Passion Flower (Passiflora incarnata)</span>                                                                           \n",
       "<span style=\"color: #808000; text-decoration-color: #808000; font-weight: bold\">    • </span><span style=\"font-weight: bold\">Active Compound:</span> Harman                                                                                      \n",
       "<span style=\"color: #808000; text-decoration-color: #808000; font-weight: bold\">    • </span><span style=\"font-weight: bold\">Use:</span> Used for its sedative and anxiolytic effects.                                                           \n",
       "<span style=\"color: #808000; text-decoration-color: #808000; font-weight: bold\"> 7 </span><span style=\"font-weight: bold\">Toothbrush Tree (Ammi visnaga)</span>                                                                                  \n",
       "<span style=\"color: #808000; text-decoration-color: #808000; font-weight: bold\">    • </span><span style=\"font-weight: bold\">Active Compound:</span> Khellin                                                                                     \n",
       "<span style=\"color: #808000; text-decoration-color: #808000; font-weight: bold\">    • </span><span style=\"font-weight: bold\">Use:</span> Employed in treating respiratory issues like asthma.                                                    \n",
       "<span style=\"color: #808000; text-decoration-color: #808000; font-weight: bold\"> 8 </span><span style=\"font-weight: bold\">Ginkgo (Ginkgo biloba)</span>                                                                                          \n",
       "<span style=\"color: #808000; text-decoration-color: #808000; font-weight: bold\">    • </span><span style=\"font-weight: bold\">Active Compound:</span> Ginkgolides                                                                                 \n",
       "<span style=\"color: #808000; text-decoration-color: #808000; font-weight: bold\">    • </span><span style=\"font-weight: bold\">Use:</span> Known to improve cognitive function and memory. This list is based on the compounds provided in the     \n",
       "<span style=\"color: #808000; text-decoration-color: #808000; font-weight: bold\">      </span>transcript and their known sources and uses. Each plant is paired with its active compound and traditional   \n",
       "<span style=\"color: #808000; text-decoration-color: #808000; font-weight: bold\">      </span>medicinal application.                                                                                       \n",
       "</pre>\n"
      ],
      "text/plain": [
       "Based on the provided transcript, here is a list of medicinal plants inferred from the active compounds mentioned, \n",
       "along with their known uses:                                                                                       \n",
       "\n",
       "\u001b[1;33m 1 \u001b[0m\u001b[1mTurmeric (Curcuma longa)\u001b[0m                                                                                        \n",
       "\u001b[1;33m   \u001b[0m\u001b[1;33m • \u001b[0m\u001b[1mActive Compound:\u001b[0m Curcumin (C-21 H-20 O-6)                                                                    \n",
       "\u001b[1;33m   \u001b[0m\u001b[1;33m • \u001b[0m\u001b[1mUse:\u001b[0m Known for its anti-inflammatory and antioxidant properties.                                             \n",
       "\u001b[1;33m 2 \u001b[0m\u001b[1mBarberry (Berberis species)\u001b[0m                                                                                     \n",
       "\u001b[1;33m   \u001b[0m\u001b[1;33m • \u001b[0m\u001b[1mActive Compound:\u001b[0m Berberine                                                                                   \n",
       "\u001b[1;33m   \u001b[0m\u001b[1;33m • \u001b[0m\u001b[1mUse:\u001b[0m Recognized for its antimicrobial and anti-diabetic effects.                                             \n",
       "\u001b[1;33m 3 \u001b[0m\u001b[1mGinger (Zingiber officinale)\u001b[0m                                                                                    \n",
       "\u001b[1;33m   \u001b[0m\u001b[1;33m • \u001b[0m\u001b[1mActive Compound:\u001b[0m [6]-Gingerol, [9]-Shogaol                                                                   \n",
       "\u001b[1;33m   \u001b[0m\u001b[1;33m • \u001b[0m\u001b[1mUse:\u001b[0m Commonly used to alleviate nausea and inflammation.                                                     \n",
       "\u001b[1;33m 4 \u001b[0m\u001b[1mClove (Syzygium aromaticum)\u001b[0m                                                                                     \n",
       "\u001b[1;33m   \u001b[0m\u001b[1;33m • \u001b[0m\u001b[1mActive Compound:\u001b[0m Eugenol                                                                                     \n",
       "\u001b[1;33m   \u001b[0m\u001b[1;33m • \u001b[0m\u001b[1mUse:\u001b[0m Known for its analgesic and anti-inflammatory properties.                                               \n",
       "\u001b[1;33m 5 \u001b[0m\u001b[1mPomegranate (Punica granatum)\u001b[0m                                                                                   \n",
       "\u001b[1;33m   \u001b[0m\u001b[1;33m • \u001b[0m\u001b[1mActive Compound:\u001b[0m Ellagic Acid                                                                                \n",
       "\u001b[1;33m   \u001b[0m\u001b[1;33m • \u001b[0m\u001b[1mUse:\u001b[0m Valued for its antioxidant and potential anti-cancer properties.                                        \n",
       "\u001b[1;33m 6 \u001b[0m\u001b[1mPassion Flower (Passiflora incarnata)\u001b[0m                                                                           \n",
       "\u001b[1;33m   \u001b[0m\u001b[1;33m • \u001b[0m\u001b[1mActive Compound:\u001b[0m Harman                                                                                      \n",
       "\u001b[1;33m   \u001b[0m\u001b[1;33m • \u001b[0m\u001b[1mUse:\u001b[0m Used for its sedative and anxiolytic effects.                                                           \n",
       "\u001b[1;33m 7 \u001b[0m\u001b[1mToothbrush Tree (Ammi visnaga)\u001b[0m                                                                                  \n",
       "\u001b[1;33m   \u001b[0m\u001b[1;33m • \u001b[0m\u001b[1mActive Compound:\u001b[0m Khellin                                                                                     \n",
       "\u001b[1;33m   \u001b[0m\u001b[1;33m • \u001b[0m\u001b[1mUse:\u001b[0m Employed in treating respiratory issues like asthma.                                                    \n",
       "\u001b[1;33m 8 \u001b[0m\u001b[1mGinkgo (Ginkgo biloba)\u001b[0m                                                                                          \n",
       "\u001b[1;33m   \u001b[0m\u001b[1;33m • \u001b[0m\u001b[1mActive Compound:\u001b[0m Ginkgolides                                                                                 \n",
       "\u001b[1;33m   \u001b[0m\u001b[1;33m • \u001b[0m\u001b[1mUse:\u001b[0m Known to improve cognitive function and memory. This list is based on the compounds provided in the     \n",
       "\u001b[1;33m   \u001b[0m\u001b[1;33m   \u001b[0mtranscript and their known sources and uses. Each plant is paired with its active compound and traditional   \n",
       "\u001b[1;33m   \u001b[0m\u001b[1;33m   \u001b[0mmedicinal application.                                                                                       \n"
      ]
     },
     "metadata": {},
     "output_type": "display_data"
    },
    {
     "data": {
      "text/html": [
       "<pre style=\"white-space:pre;overflow-x:auto;line-height:normal;font-family:Menlo,'DejaVu Sans Mono',consolas,'Courier New',monospace\">\n",
       "<span style=\"color: #008000; text-decoration-color: #008000; font-weight: bold\">🤖 Bot: 👋 Chat ended.</span>\n",
       "</pre>\n"
      ],
      "text/plain": [
       "\n",
       "\u001b[1;32m🤖 Bot: 👋 Chat ended.\u001b[0m\n"
      ]
     },
     "metadata": {},
     "output_type": "display_data"
    }
   ],
   "source": [
    "store = {}  # store multiple sessions\n",
    "console = Console()\n",
    "\n",
    "def get_history(session_id: str):\n",
    "    if session_id not in store:\n",
    "        store[session_id] = InMemoryChatMessageHistory()\n",
    "    return store[session_id]\n",
    "\n",
    "with_history = RunnableWithMessageHistory(\n",
    "    chain,\n",
    "    get_history,\n",
    "    input_messages_key=\"question\",\n",
    "    history_messages_key=\"chat_history\"\n",
    ")\n",
    "\n",
    "# ================== Interactive Loop ==================\n",
    "print(\"💬 Medical Chatbot Ready! Type 'exit' to quit.\")\n",
    "session_id = \"user1\"   # you can change per user\n",
    "\n",
    "while True:\n",
    "    user_query = input(\"\\n🧑 You: \")\n",
    "    if user_query.lower() in [\"exit\", \"quit\"]:\n",
    "        console.print(\"\\n🤖 Bot: 👋 Chat ended.\", style=\"bold green\")\n",
    "        break\n",
    "\n",
    "    # Retrieve context\n",
    "    retrieve_text = retriever.invoke(user_query)\n",
    "    knowledge_base = \" \".join(text.page_content for text in retrieve_text)\n",
    "\n",
    "    # Run with memory\n",
    "    response = with_history.invoke(\n",
    "        {\"context\": knowledge_base, \"question\": user_query},\n",
    "        config={\"configurable\": {\"session_id\": session_id}}\n",
    "    )\n",
    "\n",
    "    # Show conversation in chat-like format\n",
    "    console.print(f\"\\n🧑 You: {user_query}\", style=\"bold cyan\")\n",
    "    console.print(\"\\n🤖 Bot:\", style=\"bold green\")\n",
    "    console.print(Markdown(str(response)))"
   ]
  },
  {
   "cell_type": "code",
   "execution_count": null,
   "id": "6088852f",
   "metadata": {},
   "outputs": [],
   "source": []
  }
 ],
 "metadata": {
  "kernelspec": {
   "display_name": "myenv (3.13.7)",
   "language": "python",
   "name": "python3"
  },
  "language_info": {
   "codemirror_mode": {
    "name": "ipython",
    "version": 3
   },
   "file_extension": ".py",
   "mimetype": "text/x-python",
   "name": "python",
   "nbconvert_exporter": "python",
   "pygments_lexer": "ipython3",
   "version": "3.13.7"
  }
 },
 "nbformat": 4,
 "nbformat_minor": 5
}
